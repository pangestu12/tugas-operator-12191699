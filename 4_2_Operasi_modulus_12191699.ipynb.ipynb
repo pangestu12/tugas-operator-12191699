{
 "cells": [
  {
   "cell_type": "code",
   "execution_count": null,
   "metadata": {
    "id": "vcWWM9-jNgXb"
   },
   "outputs": [],
   "source": []
  },
  {
   "cell_type": "markdown",
   "metadata": {
    "id": "tPBAeoa4NxzC"
   },
   "source": [
    "**Operasi modulus**\n",
    "\n",
    "Modulus memang jarang dipakai namun, dibeberapa kasus modulus sangat berguna untuk mempercepat proses perhitungan. Modulus sendiri merupakan fungsi yang akan menghitung sisa dari hasil pembagian. Untuk lebih jelasnya silahkan lakukan praktek di bawah ini :\n",
    "``` javascript\n",
    "c=10\n",
    "d=3\n",
    "\n",
    "modulus=c%d\n",
    "print(\"Hasil modulus\",modulus)\n",
    "```\n",
    "Ketikan code cell di bawah ini pada editor:"
   ]
  },
  {
   "cell_type": "code",
   "execution_count": 2,
   "metadata": {
    "id": "fhfc8ABhOxQa"
   },
   "outputs": [
    {
     "name": "stdout",
     "output_type": "stream",
     "text": [
      "Hasil modulus 1\n"
     ]
    }
   ],
   "source": [
    "c=10\n",
    "d=3\n",
    "\n",
    "modulus=c%d\n",
    "print(\"Hasil modulus\",modulus)"
   ]
  },
  {
   "cell_type": "markdown",
   "metadata": {
    "id": "dvFFTUG2O_Cb"
   },
   "source": [
    "Kenapa modulus bisa seperti itu? (berikan jawaban anda pada cell teks diabawah ini)"
   ]
  },
  {
   "cell_type": "markdown",
   "metadata": {
    "id": "Fn8nPF6TPEGa"
   },
   "source": [
    "##Jawaban Keterangan \n",
    "....\n",
    "Modulus adalah, hasil sisa dari pembagian.\n",
    "Karena 10 dibagi dengan 3 maka hasilnya 3 sisa 1. sehingga sisanya adalah 1. maka modulus dari 10%3 adalah 1"
   ]
  },
  {
   "cell_type": "code",
   "execution_count": null,
   "metadata": {},
   "outputs": [],
   "source": []
  }
 ],
 "metadata": {
  "colab": {
   "collapsed_sections": [],
   "name": "4.2_Operasi_modulus.ipynb",
   "provenance": []
  },
  "kernelspec": {
   "display_name": "Python 3",
   "language": "python",
   "name": "python3"
  },
  "language_info": {
   "codemirror_mode": {
    "name": "ipython",
    "version": 3
   },
   "file_extension": ".py",
   "mimetype": "text/x-python",
   "name": "python",
   "nbconvert_exporter": "python",
   "pygments_lexer": "ipython3",
   "version": "3.8.6rc1"
  }
 },
 "nbformat": 4,
 "nbformat_minor": 1
}
